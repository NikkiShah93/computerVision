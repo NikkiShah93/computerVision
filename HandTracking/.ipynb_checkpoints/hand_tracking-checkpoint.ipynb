{
 "cells": [
  {
   "cell_type": "markdown",
   "id": "fdf3abb3-44e6-43e3-bf3e-33e44817db6b",
   "metadata": {},
   "source": [
    "## Hand Tracking Project\n",
    "\n",
    "We will be using the **openCV** and **MediaPipe** for our model."
   ]
  },
  {
   "cell_type": "code",
   "execution_count": 3,
   "id": "3dde7563-8c5e-44f6-9c9c-47a2c32b6613",
   "metadata": {},
   "outputs": [],
   "source": [
    "## first the imports\n",
    "import cv2\n",
    "import mediapipe as mp\n",
    "import time"
   ]
  },
  {
   "cell_type": "code",
   "execution_count": null,
   "id": "6d03a39a-cd64-4ad9-aded-ab163e125015",
   "metadata": {},
   "outputs": [],
   "source": []
  }
 ],
 "metadata": {
  "kernelspec": {
   "display_name": "Python 3 (ipykernel)",
   "language": "python",
   "name": "python3"
  },
  "language_info": {
   "codemirror_mode": {
    "name": "ipython",
    "version": 3
   },
   "file_extension": ".py",
   "mimetype": "text/x-python",
   "name": "python",
   "nbconvert_exporter": "python",
   "pygments_lexer": "ipython3",
   "version": "3.11.7"
  }
 },
 "nbformat": 4,
 "nbformat_minor": 5
}
