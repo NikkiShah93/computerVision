{
  "nbformat": 4,
  "nbformat_minor": 0,
  "metadata": {
    "colab": {
      "provenance": [],
      "gpuType": "T4"
    },
    "kernelspec": {
      "name": "python3",
      "display_name": "Python 3"
    },
    "language_info": {
      "name": "python"
    },
    "accelerator": "GPU"
  },
  "cells": [
    {
      "cell_type": "markdown",
      "source": [
        "## CIFAR10 CNN Model\n",
        "\n",
        "In this notebook, we will use PyTorch Convolutional Network to classify the [CIFAR10 dataset](https://www.cs.toronto.edu/~kriz/cifar.html).\n",
        "\n",
        "Steps are as follows:\n",
        "- Loading data\n",
        "- Exploring\n",
        "- Building the model\n",
        "- Training\n",
        "- Evaluation\n",
        "- Confusion Matrix\n"
      ],
      "metadata": {
        "id": "ZdnkIU7FDidI"
      }
    },
    {
      "cell_type": "code",
      "execution_count": 1,
      "metadata": {
        "id": "Enu3mgXGC8FB"
      },
      "outputs": [],
      "source": [
        "## first the imports\n",
        "import numpy as np\n",
        "import matplotlib.pyplot as plt\n",
        "import torch\n",
        "import torch.nn as nn\n",
        "import torchvision.datasets as datasets\n",
        "import torchvision.transforms as transforms\n",
        "from pathlib import Path"
      ]
    },
    {
      "cell_type": "code",
      "source": [
        "## making a device agnostic code\n",
        "device = 'cuda' if torch.cuda.is_available() else 'cpu'\n",
        "device"
      ],
      "metadata": {
        "colab": {
          "base_uri": "https://localhost:8080/",
          "height": 35
        },
        "id": "GisamwwvDh_E",
        "outputId": "4a613dab-a5a0-4d12-ffb4-47625c3e0df8"
      },
      "execution_count": 2,
      "outputs": [
        {
          "output_type": "execute_result",
          "data": {
            "text/plain": [
              "'cpu'"
            ],
            "application/vnd.google.colaboratory.intrinsic+json": {
              "type": "string"
            }
          },
          "metadata": {},
          "execution_count": 2
        }
      ]
    },
    {
      "cell_type": "code",
      "source": [
        "PATH = '../data/'\n",
        "PATH_DIR = Path(PATH)\n",
        "PATH_DIR.mkdir(parents=True, exist_ok = True)"
      ],
      "metadata": {
        "id": "ycYXGR1mFHBO"
      },
      "execution_count": 3,
      "outputs": []
    },
    {
      "cell_type": "markdown",
      "source": [
        "### Loading"
      ],
      "metadata": {
        "id": "_l6i5WGdE_Hp"
      }
    },
    {
      "cell_type": "code",
      "source": [
        "## we want to download the data into out path\n",
        "transform = transforms.Compose([transforms.ToTensor(),\n",
        "                                transforms.Normalize([.5,.5,.5],[.5,.5,.5])])\n",
        "train_data = datasets.CIFAR10(root = PATH_DIR,\n",
        "                              download=True,\n",
        "                              train=True,\n",
        "                              transform=transform)\n",
        "test_data = datasets.CIFAR10(root = PATH_DIR,\n",
        "                              train=False,\n",
        "                              transform=transform)\n",
        "## getting the classes\n",
        "classes = train_data.classes\n",
        "## and then we want to create dataloaders from these datasets\n",
        "## for ease of iterating through them\n",
        "BATCH_SIZE = 64\n",
        "train_loader = torch.utils.data.DataLoader(train_data,\n",
        "                                           shuffle=True,\n",
        "                                           batch_size = BATCH_SIZE)\n",
        "\n",
        "test_loader = torch.utils.data.DataLoader(test_data,\n",
        "                                           batch_size = BATCH_SIZE)\n",
        "## checking the first batch\n",
        "first_batch_feat, first_batch_label = next(iter(train_loader))\n",
        "n_channels = first_batch_feat.shape[1]\n",
        "input_shape = first_batch_feat.shape[2]\n",
        "print(first_batch_feat.shape, first_batch_label.shape)"
      ],
      "metadata": {
        "colab": {
          "base_uri": "https://localhost:8080/"
        },
        "id": "78evJd6tDh8b",
        "outputId": "29117a23-b338-47d2-d30a-1dd8984aba28"
      },
      "execution_count": 4,
      "outputs": [
        {
          "output_type": "stream",
          "name": "stdout",
          "text": [
            "Downloading https://www.cs.toronto.edu/~kriz/cifar-10-python.tar.gz to ../data/cifar-10-python.tar.gz\n"
          ]
        },
        {
          "output_type": "stream",
          "name": "stderr",
          "text": [
            "100%|██████████| 170498071/170498071 [00:02<00:00, 57215646.34it/s]\n"
          ]
        },
        {
          "output_type": "stream",
          "name": "stdout",
          "text": [
            "Extracting ../data/cifar-10-python.tar.gz to ../data\n",
            "torch.Size([64, 3, 32, 32]) torch.Size([64])\n"
          ]
        }
      ]
    },
    {
      "cell_type": "markdown",
      "source": [
        "### Exploring the data"
      ],
      "metadata": {
        "id": "55qSQxFpHohv"
      }
    },
    {
      "cell_type": "code",
      "source": [
        "nrows, ncols = 3,3\n",
        "for i in range(1, 10):\n",
        "  img, label = first_batch_feat[i], first_batch_label[i]\n",
        "  img = img/2 +.5\n",
        "  plt.subplot(nrows, ncols, i)\n",
        "  plt.imshow(img.permute((1,2,0)))\n",
        "  plt.title(f'{classes[label.item()]}')\n",
        "  plt.axis(False)\n",
        "\n",
        "plt.tight_layout();"
      ],
      "metadata": {
        "colab": {
          "base_uri": "https://localhost:8080/",
          "height": 486
        },
        "id": "SnClxofVDh5n",
        "outputId": "b50fdd5f-2032-4c37-a3a5-066d074abefb"
      },
      "execution_count": 5,
      "outputs": [
        {
          "output_type": "display_data",
          "data": {
            "text/plain": [
              "<Figure size 640x480 with 9 Axes>"
            ],
            "image/png": "[encoded data removed]"
          },
          "metadata": {}
        }
      ]
    },
    {
      "cell_type": "markdown",
      "source": [
        "### Building the model"
      ],
      "metadata": {
        "id": "mgILTovaIprQ"
      }
    },
    {
      "cell_type": "code",
      "source": [
        "## we want to use a simple architecture for our first model\n",
        "class CIFAR10_ClassifierV1(nn.Module):\n",
        "  def __init__(self, in_channel, input_shape, hidden_units, output_shape):\n",
        "    \"\"\"\n",
        "\n",
        "    This class will take an image and return the label associated with the features.\n",
        "    in_channel: color channels\n",
        "    input_shape: shape of input features\n",
        "    hidden_units: number of hidden neurons\n",
        "    output_shape: number of classes\n",
        "\n",
        "    \"\"\"\n",
        "    super().__init__()\n",
        "    self.l1 = nn.Sequential(\n",
        "        nn.Flatten(1),\n",
        "        nn.Linear(in_features=in_channel*input_shape*input_shape,\n",
        "                  out_features=hidden_units),\n",
        "        nn.ReLU()\n",
        "    )\n",
        "    self.l2 = nn.Sequential(\n",
        "        nn.Linear(in_features=hidden_units,\n",
        "                  out_features=hidden_units),\n",
        "        nn.ReLU(),\n",
        "        nn.Linear(in_features=hidden_units,\n",
        "                  out_features=output_shape)\n",
        "    )\n",
        "  def forward(self, x:torch.Tensor)->torch.Tensor:\n",
        "    return self.l2(self.l1(x))\n",
        "\n",
        "## creating our instance\n",
        "model_0 = CIFAR10_ClassifierV1(in_channel = n_channels,\n",
        "                               input_shape = input_shape,\n",
        "                               hidden_units = 8 ** 2,\n",
        "                               output_shape = len(classes)).to(device)\n",
        "## we can now move to loss and optimizer\n",
        "learning_rate = 1e-2\n",
        "loss_fn = nn.CrossEntropyLoss()\n",
        "optimizer = torch.optim.Adam(params = model_0.parameters(),\n",
        "                             lr = learning_rate)\n"
      ],
      "metadata": {
        "id": "5gAn7JxpDhyF"
      },
      "execution_count": 6,
      "outputs": []
    },
    {
      "cell_type": "code",
      "source": [
        "## since we will be using multiple models in this notebook\n",
        "## having a function for training and testing loops can be useful\n",
        "def training_path(model:nn.Module,\n",
        "                  data_loader:torch.utils.data.DataLoader,\n",
        "                  loss_fn: nn.Module,\n",
        "                  optimizer:torch.optim,\n",
        "                  device='cpu'):\n",
        "  \"\"\"\n",
        "  This function will take the model and the dataloader\n",
        "  and train it for each batch of data\n",
        "  and returns the average loss and accuracy\n",
        "  \"\"\"\n",
        "  running_loss = 0\n",
        "  running_accuracy = 0\n",
        "  for features, labels in data_loader:\n",
        "    features, labels = features.to(device), labels.to(device)\n",
        "    ## first we need to calculate the predictions\n",
        "    preds = model(features)\n",
        "    loss = loss_fn(preds, labels)\n",
        "    ## storing the loss in the running loss\n",
        "    running_loss += loss.item()\n",
        "    running_accuracy += (labels == preds.argmax(1)).sum() / len(features)\n",
        "    ## zeroing out the gradient\n",
        "    optimizer.zero_grad()\n",
        "    ## backpropagation\n",
        "    loss.backward()\n",
        "    ## and taking a step\n",
        "    optimizer.step()\n",
        "  ## and finally returning the vals\n",
        "  print(f'Running Loss : {running_loss/len(data_loader):.4f} | Running Accuracy : {(running_accuracy/len(data_loader))*100:.2f}%')\n",
        "  return running_loss, running_accuracy"
      ],
      "metadata": {
        "id": "fRNL3NTCDhvS"
      },
      "execution_count": 7,
      "outputs": []
    },
    {
      "cell_type": "code",
      "source": [
        "## and then use the function in our training loop\n",
        "epochs = 50\n",
        "loss_dict = {}\n",
        "for e in range(epochs):\n",
        "  print(f'Epoch: {e}')\n",
        "  running_loss, running_accuracy = training_path(model=model_0,\n",
        "                                                 data_loader = train_loader,\n",
        "                                                 loss_fn=loss_fn,\n",
        "                                                 optimizer=optimizer,\n",
        "                                                 device=device)\n",
        "  loss_dict[e] = running_loss"
      ],
      "metadata": {
        "colab": {
          "base_uri": "https://localhost:8080/"
        },
        "id": "674OYh_SuKEY",
        "outputId": "9b5e5324-fb6a-44a7-88fe-6c7481fa0c03"
      },
      "execution_count": 9,
      "outputs": [
        {
          "output_type": "stream",
          "name": "stdout",
          "text": [
            "Running Loss : 1.8697 | Running Accuracy : 32.82%\n",
            "Running Loss : 1.7703 | Running Accuracy : 36.98%\n",
            "Running Loss : 1.7442 | Running Accuracy : 38.05%\n",
            "Running Loss : 1.7008 | Running Accuracy : 39.59%\n",
            "Running Loss : 1.6824 | Running Accuracy : 40.50%\n",
            "Running Loss : 1.6642 | Running Accuracy : 41.11%\n",
            "Running Loss : 1.6441 | Running Accuracy : 41.93%\n",
            "Running Loss : 1.6080 | Running Accuracy : 43.38%\n",
            "Running Loss : 1.5986 | Running Accuracy : 43.51%\n",
            "Running Loss : 1.5790 | Running Accuracy : 44.62%\n"
          ]
        }
      ]
    },
    {
      "cell_type": "code",
      "source": [],
      "metadata": {
        "id": "9RTUspCquqps"
      },
      "execution_count": null,
      "outputs": []
    }
  ]
}